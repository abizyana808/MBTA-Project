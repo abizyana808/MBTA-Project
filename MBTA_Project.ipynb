{
  "nbformat": 4,
  "nbformat_minor": 0,
  "metadata": {
    "colab": {
      "provenance": []
    },
    "kernelspec": {
      "name": "python3",
      "display_name": "Python 3"
    },
    "language_info": {
      "name": "python"
    }
  },
  "cells": [
    {
      "cell_type": "markdown",
      "source": [
        "API Key (from Lucas): aa3640411ec54abc89e964699148d642"
      ],
      "metadata": {
        "id": "q60iAefhkrjH"
      }
    },
    {
      "cell_type": "code",
      "source": [
        "import requests\n",
        "import pandas as pd\n",
        "import numpy as np\n",
        "import matplotlib.pyplot as plt # for visualizations\n",
        "\n",
        "\n",
        "API_KEY = \"aa3640411ec54abc89e964699148d642\"  # replace with your MBTA key\n",
        "BASE_URL = \"https://api-v3.mbta.com/alerts\"\n",
        "\n",
        "def get_b_line_status():\n",
        "    params = {\n",
        "        \"api_key\": API_KEY,\n",
        "        \"filter[route]\": \"Green-B\",   # Green Line B branch\n",
        "        \"sort\": \"updated_at\",         # latest alerts first\n",
        "    }\n",
        "    response = requests.get(BASE_URL, params=params)\n",
        "\n",
        "    if response.status_code != 200:\n",
        "        print(\"Error fetching data:\", response.status_code, response.text)\n",
        "        return\n",
        "\n",
        "    data = response.json()\n",
        "    alerts = data.get(\"data\", [])\n",
        "\n",
        "    if not alerts:\n",
        "        print(\"✅ No current alerts. The B Line is running normally.\")\n",
        "    else:\n",
        "        print(\"⚠️ Current B Line Alerts:\")\n",
        "        for alert in alerts:\n",
        "            attrs = alert[\"attributes\"]\n",
        "            header = attrs.get(\"header\", \"No title\")\n",
        "            description = attrs.get(\"description\", \"\")\n",
        "            severity = attrs.get(\"severity\", \"N/A\")\n",
        "            effect = attrs.get(\"effect\", \"N/A\")\n",
        "            print(f\"- [{effect} | Severity {severity}] {header}\")\n",
        "            if description:\n",
        "                print(f\"  {description}\")\n",
        "\n",
        "if __name__ == \"__main__\":\n",
        "    get_b_line_status()\n",
        "\n",
        "print('bananas')"
      ],
      "metadata": {
        "colab": {
          "base_uri": "https://localhost:8080/"
        },
        "id": "dH18gkOlHE1b",
        "outputId": "652a1536-92ab-47ec-c32f-d46a9f5cd30f"
      },
      "execution_count": 1,
      "outputs": [
        {
          "output_type": "stream",
          "name": "stdout",
          "text": [
            "⚠️ Current B Line Alerts:\n",
            "- [SUSPENSION | Severity 7] Green Line: No train service between Medford/Tufts, Union Sq., and Park St., from 8 PM on Nov 4, through Nov 13, for track work. Use shuttle buses between Medford/Tufts & North Station. Use the Orange Line downtown. Union Sq riders use Rt 87 to Lechmere\n",
            "  C Branch eastbound service will be terminating at Kenmore. Riders can take any westbound B or D Branch train to Kenmore to board a train towards Cleveland Circle. \r\n",
            "\n",
            "Travel Time:\r\n",
            "Riders using the shuttles buses should budget extra travel time. For example, a rider traveling to Park St from Medford/Tufts should add at least an additional 45 minutes of travel in additional to their regular commute.     \r\n",
            "\n",
            "Accessibility Information:\r\n",
            "Accessible van service will be available at Magoun Square. Riders can request this service by seeing onsite personnel.        MBTA buses that service Union Sq. are accessible.\r\n",
            "\n",
            "Union Square Bus Alternatives:\r\n",
            "Route 87 riders can connect to shuttles at Lechmere.\r\n",
            "Route 91 riders can connect to shuttles at East Somerville, the Red Line at Central, or the Orange Line at Sullivan Square. \r\n",
            "Route 109 riders can connect to shuttles at East Somerville, the Red Line at Harvard, or the Orange Line at Sullivan Square. \r\n",
            "\n",
            "Orange Line Access from Park St:\r\n",
            "Riders can use the Winter Street Concourse to walk between the Green Line at Park St and the Orange Line at Downtown Crossing. The entrance to the Concourse is adjacent to the Green Line track with service towards Government Center and points north.\r\n",
            " - As soon as you enter the concourse, turn right and exit through the faregate.\r\n",
            "- Take Park elevator 804 to Tremont St and turn left.\r\n",
            " - Turn right on Winter St.\r\n",
            " - Turn left on Washington St and go approximately 200 to 300 ft.\r\n",
            " - Turn right at the Franklin St plaza and take DTX elevator 891 to the Orange Line northbound platform.\r\n",
            "\n",
            "Free Bluebikes Access:\r\n",
            "During this closure, the City of Boston is offering a promotion code for up to five free Bluebikes unlocks, MBTAGREEN114. After 30 minutes, a charge of $0.25/minute will be applied.\r\n",
            "\n",
            "Shuttle stops:\r\n",
            "\n",
            "Medford/Tufts:\r\n",
            "College Ave @ Boston Ave\r\n",
            "\n",
            "Ball Square:\r\n",
            "Northbound - Ball Sq Station (Boston Ave @ Broadway)\r\n",
            "Southbound - Ball Sq Station (Broadway @ Boston Ave)\r\n",
            " \r\n",
            "Magoun Square:\r\n",
            "Northbound - 525 Medford St (Medford St @ Broadway)\r\n",
            "Southbound - 532 Medford St (Medford St @ Broadway)\r\n",
            "\n",
            "Gilman Square:\r\n",
            "Northbound & Southbound - Medford St @ School St\r\n",
            "\n",
            "East Somerville:\r\n",
            "Northbound - McGrath Hwy @ Alston St\r\n",
            "Southbound - Medford St @ Washington St\r\n",
            "\n",
            "Union Square:\r\n",
            "No shuttle buses. \r\n",
            "\n",
            "Lechmere:\r\n",
            "Northbound & Southbound - Lechmere Busway\r\n",
            "\n",
            "Science Park/West End:\r\n",
            "Northbound - Nashua Street Park\r\n",
            "Southbound - 6 Whittier Place (Martha Rd @ Whittier Place)\r\n",
            "\n",
            "North Station:\r\n",
            "Northbound - Nashua St @ Red Auerbach Way \r\n",
            "\n",
            "Subway Connections:\r\n",
            "- North Station (Transfer within Station to Orange Line)\r\n",
            "- Haymarket (Transfer within Station to Orange Line.)\r\n",
            "- Government Center (use State, 0.2 mi.)\r\n",
            "- Park Street (use the Winter St Concourse to Downtown Crossing, 0.2 mi.)\n",
            "bananas\n"
          ]
        }
      ]
    },
    {
      "cell_type": "code",
      "source": [],
      "metadata": {
        "id": "UJaYYDK4Lpyb"
      },
      "execution_count": null,
      "outputs": []
    }
  ]
}